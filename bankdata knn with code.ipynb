{
 "cells": [
  {
   "cell_type": "code",
   "execution_count": 60,
   "id": "ba9eaac7",
   "metadata": {},
   "outputs": [],
   "source": [
    "import pandas as pd\n",
    "from sklearn import preprocessing\n",
    "from sklearn.model_selection import train_test_split\n",
    "from sklearn.metrics import accuracy_score\n",
    "from sklearn.neighbors import NearestNeighbors, KNeighborsClassifier\n",
    "import matplotlib.pylab as plt\n",
    "import seaborn as sns\n",
    "from pathlib import Path\n",
    "import math\n",
    "\n",
    "import pandas as pd\n",
    "\n",
    "from sklearn.metrics import pairwise\n",
    "from sklearn import preprocessing\n",
    "from sklearn.model_selection import train_test_split\n",
    "from sklearn.metrics import accuracy_score, confusion_matrix, mean_squared_error\n",
    "from sklearn.neighbors import KNeighborsClassifier, KNeighborsRegressor #, NearestNeighbors\n",
    "\n",
    "%matplotlib inline"
   ]
  },
  {
   "cell_type": "code",
   "execution_count": 76,
   "id": "80236dd0",
   "metadata": {},
   "outputs": [
    {
     "data": {
      "text/html": [
       "<div>\n",
       "<style scoped>\n",
       "    .dataframe tbody tr th:only-of-type {\n",
       "        vertical-align: middle;\n",
       "    }\n",
       "\n",
       "    .dataframe tbody tr th {\n",
       "        vertical-align: top;\n",
       "    }\n",
       "\n",
       "    .dataframe thead th {\n",
       "        text-align: right;\n",
       "    }\n",
       "</style>\n",
       "<table border=\"1\" class=\"dataframe\">\n",
       "  <thead>\n",
       "    <tr style=\"text-align: right;\">\n",
       "      <th></th>\n",
       "      <th>Age</th>\n",
       "      <th>Experience</th>\n",
       "      <th>Income</th>\n",
       "      <th>Family</th>\n",
       "      <th>CCAvg</th>\n",
       "      <th>Education</th>\n",
       "      <th>Mortgage</th>\n",
       "      <th>Personal Loan</th>\n",
       "      <th>Securities Account</th>\n",
       "      <th>CD Account</th>\n",
       "      <th>Online</th>\n",
       "      <th>CreditCard</th>\n",
       "    </tr>\n",
       "  </thead>\n",
       "  <tbody>\n",
       "    <tr>\n",
       "      <th>0</th>\n",
       "      <td>25</td>\n",
       "      <td>1</td>\n",
       "      <td>49</td>\n",
       "      <td>4</td>\n",
       "      <td>1.6</td>\n",
       "      <td>1</td>\n",
       "      <td>0</td>\n",
       "      <td>0</td>\n",
       "      <td>1</td>\n",
       "      <td>0</td>\n",
       "      <td>0</td>\n",
       "      <td>0</td>\n",
       "    </tr>\n",
       "    <tr>\n",
       "      <th>1</th>\n",
       "      <td>45</td>\n",
       "      <td>19</td>\n",
       "      <td>34</td>\n",
       "      <td>3</td>\n",
       "      <td>1.5</td>\n",
       "      <td>1</td>\n",
       "      <td>0</td>\n",
       "      <td>0</td>\n",
       "      <td>1</td>\n",
       "      <td>0</td>\n",
       "      <td>0</td>\n",
       "      <td>0</td>\n",
       "    </tr>\n",
       "    <tr>\n",
       "      <th>2</th>\n",
       "      <td>39</td>\n",
       "      <td>15</td>\n",
       "      <td>11</td>\n",
       "      <td>1</td>\n",
       "      <td>1.0</td>\n",
       "      <td>1</td>\n",
       "      <td>0</td>\n",
       "      <td>0</td>\n",
       "      <td>0</td>\n",
       "      <td>0</td>\n",
       "      <td>0</td>\n",
       "      <td>0</td>\n",
       "    </tr>\n",
       "    <tr>\n",
       "      <th>3</th>\n",
       "      <td>35</td>\n",
       "      <td>9</td>\n",
       "      <td>100</td>\n",
       "      <td>1</td>\n",
       "      <td>2.7</td>\n",
       "      <td>2</td>\n",
       "      <td>0</td>\n",
       "      <td>0</td>\n",
       "      <td>0</td>\n",
       "      <td>0</td>\n",
       "      <td>0</td>\n",
       "      <td>0</td>\n",
       "    </tr>\n",
       "    <tr>\n",
       "      <th>4</th>\n",
       "      <td>35</td>\n",
       "      <td>8</td>\n",
       "      <td>45</td>\n",
       "      <td>4</td>\n",
       "      <td>1.0</td>\n",
       "      <td>2</td>\n",
       "      <td>0</td>\n",
       "      <td>0</td>\n",
       "      <td>0</td>\n",
       "      <td>0</td>\n",
       "      <td>0</td>\n",
       "      <td>1</td>\n",
       "    </tr>\n",
       "  </tbody>\n",
       "</table>\n",
       "</div>"
      ],
      "text/plain": [
       "   Age  Experience  Income  Family  CCAvg  Education  Mortgage  Personal Loan  \\\n",
       "0   25           1      49       4    1.6          1         0              0   \n",
       "1   45          19      34       3    1.5          1         0              0   \n",
       "2   39          15      11       1    1.0          1         0              0   \n",
       "3   35           9     100       1    2.7          2         0              0   \n",
       "4   35           8      45       4    1.0          2         0              0   \n",
       "\n",
       "   Securities Account  CD Account  Online  CreditCard  \n",
       "0                   1           0       0           0  \n",
       "1                   1           0       0           0  \n",
       "2                   0           0       0           0  \n",
       "3                   0           0       0           0  \n",
       "4                   0           0       0           1  "
      ]
     },
     "execution_count": 76,
     "metadata": {},
     "output_type": "execute_result"
    }
   ],
   "source": [
    "bank_df = pd.read_csv(\"/Users/superman/Desktop/Education/MBA/Semester-V/BUSI 650/Practice/UniversalBank.csv\")\n",
    "\n",
    "\n",
    "\n",
    "# Drop ID and zip code columns\n",
    "bank_df = bank_df.drop(columns=['ID','ZIP Code'])\n",
    "\n",
    "# Make sure that the result is as expected\n",
    "bank_df.head()\n"
   ]
  },
  {
   "cell_type": "code",
   "execution_count": 77,
   "id": "29754b02",
   "metadata": {},
   "outputs": [
    {
     "data": {
      "text/plain": [
       "['Age',\n",
       " 'Experience',\n",
       " 'Income',\n",
       " 'Family',\n",
       " 'CCAvg',\n",
       " 'Education',\n",
       " 'Mortgage',\n",
       " 'Personal_Loan',\n",
       " 'Securities_Account',\n",
       " 'CD_Account',\n",
       " 'Online',\n",
       " 'CreditCard']"
      ]
     },
     "execution_count": 77,
     "metadata": {},
     "output_type": "execute_result"
    }
   ],
   "source": [
    "# modify column names\n",
    "bank_df.columns = [c.replace(' ', '_').replace('=', '_') for c in bank_df.columns]\n",
    "list(bank_df.columns)"
   ]
  },
  {
   "cell_type": "code",
   "execution_count": 78,
   "id": "84ebb3bf",
   "metadata": {},
   "outputs": [
    {
     "data": {
      "text/html": [
       "<div>\n",
       "<style scoped>\n",
       "    .dataframe tbody tr th:only-of-type {\n",
       "        vertical-align: middle;\n",
       "    }\n",
       "\n",
       "    .dataframe tbody tr th {\n",
       "        vertical-align: top;\n",
       "    }\n",
       "\n",
       "    .dataframe thead th {\n",
       "        text-align: right;\n",
       "    }\n",
       "</style>\n",
       "<table border=\"1\" class=\"dataframe\">\n",
       "  <thead>\n",
       "    <tr style=\"text-align: right;\">\n",
       "      <th></th>\n",
       "      <th>Age</th>\n",
       "      <th>Experience</th>\n",
       "      <th>Income</th>\n",
       "      <th>Family</th>\n",
       "      <th>CCAvg</th>\n",
       "      <th>Mortgage</th>\n",
       "      <th>Personal_Loan</th>\n",
       "      <th>Securities_Account</th>\n",
       "      <th>CD_Account</th>\n",
       "      <th>Online</th>\n",
       "      <th>CreditCard</th>\n",
       "      <th>Education_1</th>\n",
       "      <th>Education_2</th>\n",
       "      <th>Education_3</th>\n",
       "    </tr>\n",
       "  </thead>\n",
       "  <tbody>\n",
       "    <tr>\n",
       "      <th>0</th>\n",
       "      <td>25</td>\n",
       "      <td>1</td>\n",
       "      <td>49</td>\n",
       "      <td>4</td>\n",
       "      <td>1.6</td>\n",
       "      <td>0</td>\n",
       "      <td>0</td>\n",
       "      <td>1</td>\n",
       "      <td>0</td>\n",
       "      <td>0</td>\n",
       "      <td>0</td>\n",
       "      <td>1</td>\n",
       "      <td>0</td>\n",
       "      <td>0</td>\n",
       "    </tr>\n",
       "    <tr>\n",
       "      <th>1</th>\n",
       "      <td>45</td>\n",
       "      <td>19</td>\n",
       "      <td>34</td>\n",
       "      <td>3</td>\n",
       "      <td>1.5</td>\n",
       "      <td>0</td>\n",
       "      <td>0</td>\n",
       "      <td>1</td>\n",
       "      <td>0</td>\n",
       "      <td>0</td>\n",
       "      <td>0</td>\n",
       "      <td>1</td>\n",
       "      <td>0</td>\n",
       "      <td>0</td>\n",
       "    </tr>\n",
       "    <tr>\n",
       "      <th>2</th>\n",
       "      <td>39</td>\n",
       "      <td>15</td>\n",
       "      <td>11</td>\n",
       "      <td>1</td>\n",
       "      <td>1.0</td>\n",
       "      <td>0</td>\n",
       "      <td>0</td>\n",
       "      <td>0</td>\n",
       "      <td>0</td>\n",
       "      <td>0</td>\n",
       "      <td>0</td>\n",
       "      <td>1</td>\n",
       "      <td>0</td>\n",
       "      <td>0</td>\n",
       "    </tr>\n",
       "    <tr>\n",
       "      <th>3</th>\n",
       "      <td>35</td>\n",
       "      <td>9</td>\n",
       "      <td>100</td>\n",
       "      <td>1</td>\n",
       "      <td>2.7</td>\n",
       "      <td>0</td>\n",
       "      <td>0</td>\n",
       "      <td>0</td>\n",
       "      <td>0</td>\n",
       "      <td>0</td>\n",
       "      <td>0</td>\n",
       "      <td>0</td>\n",
       "      <td>1</td>\n",
       "      <td>0</td>\n",
       "    </tr>\n",
       "    <tr>\n",
       "      <th>4</th>\n",
       "      <td>35</td>\n",
       "      <td>8</td>\n",
       "      <td>45</td>\n",
       "      <td>4</td>\n",
       "      <td>1.0</td>\n",
       "      <td>0</td>\n",
       "      <td>0</td>\n",
       "      <td>0</td>\n",
       "      <td>0</td>\n",
       "      <td>0</td>\n",
       "      <td>1</td>\n",
       "      <td>0</td>\n",
       "      <td>1</td>\n",
       "      <td>0</td>\n",
       "    </tr>\n",
       "  </tbody>\n",
       "</table>\n",
       "</div>"
      ],
      "text/plain": [
       "   Age  Experience  Income  Family  CCAvg  Mortgage  Personal_Loan  \\\n",
       "0   25           1      49       4    1.6         0              0   \n",
       "1   45          19      34       3    1.5         0              0   \n",
       "2   39          15      11       1    1.0         0              0   \n",
       "3   35           9     100       1    2.7         0              0   \n",
       "4   35           8      45       4    1.0         0              0   \n",
       "\n",
       "   Securities_Account  CD_Account  Online  CreditCard  Education_1  \\\n",
       "0                   1           0       0           0            1   \n",
       "1                   1           0       0           0            1   \n",
       "2                   0           0       0           0            1   \n",
       "3                   0           0       0           0            0   \n",
       "4                   0           0       0           1            0   \n",
       "\n",
       "   Education_2  Education_3  \n",
       "0            0            0  \n",
       "1            0            0  \n",
       "2            0            0  \n",
       "3            1            0  \n",
       "4            1            0  "
      ]
     },
     "execution_count": 78,
     "metadata": {},
     "output_type": "execute_result"
    }
   ],
   "source": [
    "# create dummy variables for categorical variable, we consider Education as categorical variable\n",
    "bank_df['Education'] = bank_df['Education'].astype('category')\n",
    "bank_df = pd.get_dummies(bank_df, prefix_sep='_', drop_first=False)\n",
    "bank_df.head()"
   ]
  },
  {
   "cell_type": "code",
   "execution_count": 86,
   "id": "370da029",
   "metadata": {},
   "outputs": [
    {
     "name": "stdout",
     "output_type": "stream",
     "text": [
      "Training set: (3000, 14) Validation set: (2000, 14)\n"
     ]
    }
   ],
   "source": [
    "# split dataset into training (60%) and validation (40%) sets\n",
    "train_df, valid_df = train_test_split(bank_df, test_size=0.4, random_state=1)\n",
    "print('Training set:', train_df.shape, 'Validation set:', valid_df.shape)"
   ]
  },
  {
   "cell_type": "code",
   "execution_count": 103,
   "id": "4a2f4a9f",
   "metadata": {},
   "outputs": [
    {
     "data": {
      "text/html": [
       "<div>\n",
       "<style scoped>\n",
       "    .dataframe tbody tr th:only-of-type {\n",
       "        vertical-align: middle;\n",
       "    }\n",
       "\n",
       "    .dataframe tbody tr th {\n",
       "        vertical-align: top;\n",
       "    }\n",
       "\n",
       "    .dataframe thead th {\n",
       "        text-align: right;\n",
       "    }\n",
       "</style>\n",
       "<table border=\"1\" class=\"dataframe\">\n",
       "  <thead>\n",
       "    <tr style=\"text-align: right;\">\n",
       "      <th></th>\n",
       "      <th>Age</th>\n",
       "      <th>Experience</th>\n",
       "      <th>Income</th>\n",
       "      <th>Family</th>\n",
       "      <th>CCAvg</th>\n",
       "      <th>Mortgage</th>\n",
       "      <th>Securities_Account</th>\n",
       "      <th>CD_Account</th>\n",
       "      <th>Online</th>\n",
       "      <th>CreditCard</th>\n",
       "      <th>Education_1</th>\n",
       "      <th>Education_2</th>\n",
       "      <th>Education_3</th>\n",
       "    </tr>\n",
       "  </thead>\n",
       "  <tbody>\n",
       "    <tr>\n",
       "      <th>0</th>\n",
       "      <td>40</td>\n",
       "      <td>10</td>\n",
       "      <td>84</td>\n",
       "      <td>2</td>\n",
       "      <td>2</td>\n",
       "      <td>0</td>\n",
       "      <td>0</td>\n",
       "      <td>0</td>\n",
       "      <td>1</td>\n",
       "      <td>1</td>\n",
       "      <td>0</td>\n",
       "      <td>1</td>\n",
       "      <td>0</td>\n",
       "    </tr>\n",
       "  </tbody>\n",
       "</table>\n",
       "</div>"
      ],
      "text/plain": [
       "   Age  Experience  Income  Family  CCAvg  Mortgage  Securities_Account  \\\n",
       "0   40          10      84       2      2         0                   0   \n",
       "\n",
       "   CD_Account  Online  CreditCard  Education_1  Education_2  Education_3  \n",
       "0           0       1           1            0            1            0  "
      ]
     },
     "execution_count": 103,
     "metadata": {},
     "output_type": "execute_result"
    }
   ],
   "source": [
    "# new customer\n",
    "newCustomer = pd.DataFrame([{'Age': 40, 'Experience': 10, 'Income': 84, 'Family': 2, 'CCAvg': 2, 'Mortgage': 0,\n",
    "                             'Securities_Account': 0, 'CD_Account': 0, 'Online': 1, 'CreditCard': 1, 'Education_1': 0, \n",
    "                             'Education_2': 1, 'Education_3': 0}],\n",
    "                            columns=['Age', 'Experience', 'Income', 'Family', 'CCAvg', 'Mortgage', 'Securities_Account',\n",
    "                                   'CD_Account', 'Online', 'CreditCard', 'Education_1', 'Education_2', 'Education_3'])\n",
    "newCustomer"
   ]
  },
  {
   "cell_type": "code",
   "execution_count": 105,
   "id": "b82203f6",
   "metadata": {},
   "outputs": [
    {
     "name": "stdout",
     "output_type": "stream",
     "text": [
      "        Age  Experience    Income    Family     CCAvg  Mortgage  \\\n",
      "0 -0.486446   -0.901063  0.220892 -0.352127  0.035689 -0.559242   \n",
      "\n",
      "   Securities_Account  CD_Account   Online  CreditCard  Education_1  \\\n",
      "0           -0.337025   -0.252646  0.83419     1.53728    -0.838795   \n",
      "\n",
      "   Education_2  Education_3  \n",
      "0     1.591719    -0.660895  \n"
     ]
    }
   ],
   "source": [
    "# normalize training and validation sets. The transformation is trained using the training set only.\n",
    "# if you don't convert the integer columns to real numbers (float64), \n",
    "# the StandardScaler will raise a DataConversionWarning. This is expected\n",
    "outcome = 'Personal_Loan'\n",
    "predictors = list(bank_df.columns)\n",
    "predictors.remove(outcome)\n",
    "\n",
    "scaler = preprocessing.StandardScaler()\n",
    "scaler.fit(train_df[predictors])\n",
    "scaler.transform(train_df[predictors])\n",
    "# Transform the predictors of training, validation and newCustomer\n",
    "train_X = scaler.transform(train_df[predictors])\n",
    "train_y = train_df[outcome]\n",
    "valid_X = scaler.transform(valid_df[predictors])\n",
    "valid_y = valid_df[outcome]\n",
    "newCustomerNorm = pd.DataFrame(scaler.transform(newCustomer), \n",
    "                               columns=['Age', 'Experience', 'Income', 'Family', 'CCAvg', 'Mortgage', 'Securities_Account',\n",
    "                                   'CD_Account', 'Online', 'CreditCard', 'Education_1', 'Education_2', 'Education_3'])\n",
    "print(newCustomerNorm)"
   ]
  },
  {
   "cell_type": "code",
   "execution_count": 118,
   "id": "e64484b6",
   "metadata": {},
   "outputs": [
    {
     "data": {
      "text/plain": [
       "KNeighborsClassifier(n_neighbors=1)"
      ]
     },
     "execution_count": 118,
     "metadata": {},
     "output_type": "execute_result"
    }
   ],
   "source": [
    "# k-NN using k = 1\n",
    "knn = KNeighborsClassifier(n_neighbors=1)\n",
    "knn.fit(train_X, train_y)"
   ]
  },
  {
   "cell_type": "code",
   "execution_count": 119,
   "id": "6109d4e9",
   "metadata": {},
   "outputs": [
    {
     "name": "stderr",
     "output_type": "stream",
     "text": [
      "/Users/superman/Desktop/PythonMIData/MIData/sample_project/env/lib/python3.9/site-packages/sklearn/base.py:443: UserWarning: X has feature names, but KNeighborsClassifier was fitted without feature names\n",
      "  warnings.warn(\n"
     ]
    },
    {
     "data": {
      "text/plain": [
       "array([0])"
      ]
     },
     "execution_count": 119,
     "metadata": {},
     "output_type": "execute_result"
    }
   ],
   "source": [
    "# predicted class\n",
    "knn.predict(newCustomerNorm)"
   ]
  },
  {
   "cell_type": "code",
   "execution_count": 120,
   "id": "289587e5",
   "metadata": {},
   "outputs": [
    {
     "name": "stderr",
     "output_type": "stream",
     "text": [
      "/Users/superman/Desktop/PythonMIData/MIData/sample_project/env/lib/python3.9/site-packages/sklearn/base.py:443: UserWarning: X has feature names, but KNeighborsClassifier was fitted without feature names\n",
      "  warnings.warn(\n"
     ]
    },
    {
     "data": {
      "text/plain": [
       "array([[1., 0.]])"
      ]
     },
     "execution_count": 120,
     "metadata": {},
     "output_type": "execute_result"
    }
   ],
   "source": [
    "# predicted probability\n",
    "knn.predict_proba(newCustomerNorm)"
   ]
  },
  {
   "cell_type": "markdown",
   "id": "b3547961",
   "metadata": {},
   "source": [
    "# New customer is predicted to not accept a loan offer."
   ]
  },
  {
   "cell_type": "code",
   "execution_count": 121,
   "id": "c9091994",
   "metadata": {},
   "outputs": [
    {
     "data": {
      "text/html": [
       "<div>\n",
       "<style scoped>\n",
       "    .dataframe tbody tr th:only-of-type {\n",
       "        vertical-align: middle;\n",
       "    }\n",
       "\n",
       "    .dataframe tbody tr th {\n",
       "        vertical-align: top;\n",
       "    }\n",
       "\n",
       "    .dataframe thead th {\n",
       "        text-align: right;\n",
       "    }\n",
       "</style>\n",
       "<table border=\"1\" class=\"dataframe\">\n",
       "  <thead>\n",
       "    <tr style=\"text-align: right;\">\n",
       "      <th></th>\n",
       "      <th>k</th>\n",
       "      <th>accuracy</th>\n",
       "    </tr>\n",
       "  </thead>\n",
       "  <tbody>\n",
       "    <tr>\n",
       "      <th>0</th>\n",
       "      <td>1</td>\n",
       "      <td>0.9545</td>\n",
       "    </tr>\n",
       "    <tr>\n",
       "      <th>1</th>\n",
       "      <td>3</td>\n",
       "      <td>0.9535</td>\n",
       "    </tr>\n",
       "    <tr>\n",
       "      <th>2</th>\n",
       "      <td>5</td>\n",
       "      <td>0.9565</td>\n",
       "    </tr>\n",
       "    <tr>\n",
       "      <th>3</th>\n",
       "      <td>7</td>\n",
       "      <td>0.9520</td>\n",
       "    </tr>\n",
       "    <tr>\n",
       "      <th>4</th>\n",
       "      <td>9</td>\n",
       "      <td>0.9475</td>\n",
       "    </tr>\n",
       "    <tr>\n",
       "      <th>5</th>\n",
       "      <td>11</td>\n",
       "      <td>0.9465</td>\n",
       "    </tr>\n",
       "    <tr>\n",
       "      <th>6</th>\n",
       "      <td>13</td>\n",
       "      <td>0.9450</td>\n",
       "    </tr>\n",
       "    <tr>\n",
       "      <th>7</th>\n",
       "      <td>15</td>\n",
       "      <td>0.9440</td>\n",
       "    </tr>\n",
       "    <tr>\n",
       "      <th>8</th>\n",
       "      <td>17</td>\n",
       "      <td>0.9415</td>\n",
       "    </tr>\n",
       "    <tr>\n",
       "      <th>9</th>\n",
       "      <td>19</td>\n",
       "      <td>0.9405</td>\n",
       "    </tr>\n",
       "  </tbody>\n",
       "</table>\n",
       "</div>"
      ],
      "text/plain": [
       "    k  accuracy\n",
       "0   1    0.9545\n",
       "1   3    0.9535\n",
       "2   5    0.9565\n",
       "3   7    0.9520\n",
       "4   9    0.9475\n",
       "5  11    0.9465\n",
       "6  13    0.9450\n",
       "7  15    0.9440\n",
       "8  17    0.9415\n",
       "9  19    0.9405"
      ]
     },
     "execution_count": 121,
     "metadata": {},
     "output_type": "execute_result"
    }
   ],
   "source": [
    "#7.2.b What is a choice of k that balances between overfitting and ignoring the predictor information?\n",
    "# b Train a classifier for different values of k\n",
    "results = []\n",
    "for k in range(1, 20, 2):\n",
    "    knn = KNeighborsClassifier(n_neighbors=k).fit(train_X, train_y)\n",
    "    results.append({\n",
    "        'k': k,\n",
    "        'accuracy': accuracy_score(valid_y, knn.predict(valid_X))\n",
    "    })\n",
    "\n",
    "# Convert results to a pandas data frame\n",
    "results = pd.DataFrame(results)\n",
    "results"
   ]
  },
  {
   "cell_type": "code",
   "execution_count": 122,
   "id": "fbe4b235",
   "metadata": {},
   "outputs": [
    {
     "data": {
      "image/png": "[encoded data removed]",
      "text/plain": [
       "<Figure size 432x288 with 1 Axes>"
      ]
     },
     "metadata": {
      "needs_background": "light"
     },
     "output_type": "display_data"
    }
   ],
   "source": [
    "# plot accuracy vs. k\n",
    "_ = results.plot.scatter(x='k', y='accuracy', xlim=[0, 20])"
   ]
  },
  {
   "cell_type": "code",
   "execution_count": 36,
   "id": "7da3c7dc",
   "metadata": {},
   "outputs": [],
   "source": [
    "#We choose the best k, which minimizes the misclassification rate in the validation set. Our best k is k=5"
   ]
  },
  {
   "cell_type": "code",
   "execution_count": 123,
   "id": "cd534b8f",
   "metadata": {},
   "outputs": [
    {
     "name": "stdout",
     "output_type": "stream",
     "text": [
      "[[1803    4]\n",
      " [  83  110]]\n",
      "Accuracy : 0.9565\n"
     ]
    }
   ],
   "source": [
    "#7.2.c. Show the confusion matrix for the validation data that results from using the best k.\n",
    "# k-NN model for k = 5\n",
    "knn = KNeighborsClassifier(n_neighbors=5)\n",
    "knn.fit(train_X, train_y)\n",
    "\n",
    "knnPredOpt = knn.predict(valid_X)\n",
    "print(confusion_matrix(valid_y, knnPredOpt))\n",
    "print('Accuracy :', accuracy_score(valid_y, knnPredOpt))"
   ]
  },
  {
   "cell_type": "markdown",
   "id": "bead5d24",
   "metadata": {},
   "source": [
    "# 7.2.d. Consider the following customer: Run the program after applying \n",
    "    Age = 40, Experience = 10, Income = 84,\n",
    "    Family = 2, CCAvg = 2, Education_1 = 0, Education_2 = 1, Education_3 = 0,\n",
    "    Mortgage = 0, Securities Account = 0, CD Account = 0,\n",
    "    Online = 1 and Credit Card = 1. Classify the customer using the best k."
   ]
  },
  {
   "cell_type": "code",
   "execution_count": 128,
   "id": "d5e93720",
   "metadata": {},
   "outputs": [
    {
     "name": "stderr",
     "output_type": "stream",
     "text": [
      "/Users/superman/Desktop/PythonMIData/MIData/sample_project/env/lib/python3.9/site-packages/sklearn/base.py:443: UserWarning: X has feature names, but KNeighborsClassifier was fitted without feature names\n",
      "  warnings.warn(\n"
     ]
    },
    {
     "data": {
      "text/plain": [
       "array([0])"
      ]
     },
     "execution_count": 128,
     "metadata": {},
     "output_type": "execute_result"
    }
   ],
   "source": [
    "# predicted class\n",
    "knn.predict(newCustomerNorm)"
   ]
  },
  {
   "cell_type": "code",
   "execution_count": 130,
   "id": "c771a8e7",
   "metadata": {},
   "outputs": [
    {
     "name": "stderr",
     "output_type": "stream",
     "text": [
      "/Users/superman/Desktop/PythonMIData/MIData/sample_project/env/lib/python3.9/site-packages/sklearn/base.py:443: UserWarning: X has feature names, but KNeighborsClassifier was fitted without feature names\n",
      "  warnings.warn(\n"
     ]
    },
    {
     "data": {
      "text/plain": [
       "array([[1., 0.]])"
      ]
     },
     "execution_count": 130,
     "metadata": {},
     "output_type": "execute_result"
    }
   ],
   "source": [
    "# predicted probability\n",
    "knn.predict_proba(newCustomerNorm)"
   ]
  },
  {
   "cell_type": "code",
   "execution_count": 131,
   "id": "6381f366",
   "metadata": {},
   "outputs": [],
   "source": [
    "#New customer is predicted to not accept a loan offer."
   ]
  },
  {
   "cell_type": "code",
   "execution_count": 133,
   "id": "58243e04",
   "metadata": {},
   "outputs": [
    {
     "name": "stdout",
     "output_type": "stream",
     "text": [
      "Training :  (2500, 14)\n",
      "Validation :  (1750, 14)\n",
      "Test :  (600, 14)\n"
     ]
    }
   ],
   "source": [
    "#7.2.e. Repartition the data, this time into training, validation, and test sets (50% : 30% : 20%).\n",
    "#Apply the k-NN method with the k chosen above. Compare the confusion matrix of the test set with\n",
    "#that of the training and validation sets. Comment on the differences and their reason.# partition the data into training (50%), validation (30%) and test (20%) sets\n",
    "#train_df, temp_df = train_test_split(bank_df, test_size=0.5, random_state=1)\n",
    "#valid_df, test_df = train_test_split(temp_df, test_size=0.3, random_state=1)\n",
    "# partition the data into training (50%), validation (30%) and test (20%) sets\n",
    "train_df, temp_df = train_test_split(bank_df, test_size=0.5, random_state=1)\n",
    "valid_df, temp_df = train_test_split(temp_df, test_size=0.3, random_state=1)\n",
    "test_df, temp_df = train_test_split(temp_df, test_size=0.2, random_state=1)\n",
    "\n",
    "print('Training : ', train_df.shape)\n",
    "print('Validation : ', valid_df.shape)\n",
    "print('Test : ', test_df.shape)"
   ]
  },
  {
   "cell_type": "code",
   "execution_count": 134,
   "id": "5d2403d8",
   "metadata": {},
   "outputs": [],
   "source": [
    "# normalize training and validation sets. The transformation is trained using the training set only.\n",
    "# if you don't convert the integer columns to real numbers (float64), \n",
    "# the StandardScaler will raise a DataConversionWarning. This is expected\n",
    "outcome = 'Personal_Loan'\n",
    "predictors = list(bank_df.columns)\n",
    "predictors.remove(outcome)\n",
    "\n",
    "scaler = preprocessing.StandardScaler()\n",
    "scaler.fit(train_df[predictors])\n",
    "\n",
    "# Transform the predictors of training validation and newCustomer\n",
    "train_X = scaler.transform(train_df[predictors])\n",
    "train_y = train_df[outcome]\n",
    "valid_X = scaler.transform(valid_df[predictors])\n",
    "valid_y = valid_df[outcome]\n",
    "test_X = scaler.transform(test_df[predictors])\n",
    "test_y = test_df[outcome]\n",
    "test_X = pd.DataFrame(test_X, columns=['Age', 'Experience', 'Income', 'Family', 'CCAvg', 'Mortgage', 'Securities_Account',\n",
    "                                   'CD_Account', 'Online', 'CreditCard', 'Education_1', 'Education_2', 'Education_3'])\n",
    "test_y = pd.DataFrame(test_y, columns=['Personal_Loan'])"
   ]
  },
  {
   "cell_type": "code",
   "execution_count": 135,
   "id": "1d8f7622",
   "metadata": {},
   "outputs": [
    {
     "data": {
      "text/plain": [
       "KNeighborsClassifier()"
      ]
     },
     "execution_count": 135,
     "metadata": {},
     "output_type": "execute_result"
    }
   ],
   "source": [
    "# k-NN model for best k = 5\n",
    "knn = KNeighborsClassifier(n_neighbors=5)\n",
    "knn.fit(train_X, train_y)\n"
   ]
  },
  {
   "cell_type": "code",
   "execution_count": 136,
   "id": "4290dad5",
   "metadata": {},
   "outputs": [
    {
     "name": "stdout",
     "output_type": "stream",
     "text": [
      "[[2255    4]\n",
      " [  75  166]]\n",
      "Accuracy : 0.9684\n"
     ]
    }
   ],
   "source": [
    "# confusion matrix of training set\n",
    "knnPredOpt = knn.predict(train_X)\n",
    "print(confusion_matrix(train_y, knnPredOpt))\n",
    "print('Accuracy :', accuracy_score(train_y, knnPredOpt))"
   ]
  },
  {
   "cell_type": "code",
   "execution_count": 137,
   "id": "5c2338c3",
   "metadata": {},
   "outputs": [
    {
     "name": "stdout",
     "output_type": "stream",
     "text": [
      "[[1574    3]\n",
      " [  79   94]]\n",
      "Accuracy : 0.9531428571428572\n"
     ]
    }
   ],
   "source": [
    "# confusion matrix of validation set\n",
    "knnPredOpt = knn.predict(valid_X)\n",
    "print(confusion_matrix(valid_y, knnPredOpt))\n",
    "print('Accuracy :', accuracy_score(valid_y, knnPredOpt))"
   ]
  },
  {
   "cell_type": "code",
   "execution_count": 138,
   "id": "e24210e4",
   "metadata": {},
   "outputs": [
    {
     "name": "stdout",
     "output_type": "stream",
     "text": [
      "[[537   3]\n",
      " [ 22  38]]\n",
      "Accuracy : 0.9583333333333334\n"
     ]
    },
    {
     "name": "stderr",
     "output_type": "stream",
     "text": [
      "/Users/superman/Desktop/PythonMIData/MIData/sample_project/env/lib/python3.9/site-packages/sklearn/base.py:443: UserWarning: X has feature names, but KNeighborsClassifier was fitted without feature names\n",
      "  warnings.warn(\n"
     ]
    }
   ],
   "source": [
    "# confusion matrix of test set\n",
    "knnPredOpt = knn.predict(test_X)\n",
    "print(confusion_matrix(test_y, knnPredOpt))\n",
    "print('Accuracy :', accuracy_score(test_y, knnPredOpt))"
   ]
  },
  {
   "cell_type": "markdown",
   "id": "a250967d",
   "metadata": {},
   "source": [
    "# Note\n",
    "#The error rate increases from the training set to the validation set, \n",
    "#but decreases from the validation set to the test set. The differences are small, but this decreased performance, \n",
    "#at least in the test set, is unexpected but we can ignore it as difference is very small - both the training and validation sets are \n",
    "#used in setting the optimal k so there can be overfitting. The test set was not used to select the optimal k."
   ]
  },
  {
   "cell_type": "code",
   "execution_count": null,
   "id": "b95bf72c",
   "metadata": {},
   "outputs": [],
   "source": []
  }
 ],
 "metadata": {
  "kernelspec": {
   "display_name": "Python 3 (ipykernel)",
   "language": "python",
   "name": "python3"
  },
  "language_info": {
   "codemirror_mode": {
    "name": "ipython",
    "version": 3
   },
   "file_extension": ".py",
   "mimetype": "text/x-python",
   "name": "python",
   "nbconvert_exporter": "python",
   "pygments_lexer": "ipython3",
   "version": "3.9.7"
  }
 },
 "nbformat": 4,
 "nbformat_minor": 5
}
